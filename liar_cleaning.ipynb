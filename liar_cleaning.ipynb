{
 "cells": [
  {
   "cell_type": "code",
   "execution_count": 2,
   "metadata": {},
   "outputs": [],
   "source": [
    "import pandas as pd"
   ]
  },
  {
   "cell_type": "code",
   "execution_count": 3,
   "metadata": {},
   "outputs": [
    {
     "data": {
      "application/vnd.microsoft.datawrangler.viewer.v0+json": {
       "columns": [
        {
         "name": "index",
         "rawType": "int64",
         "type": "integer"
        },
        {
         "name": "type",
         "rawType": "object",
         "type": "string"
        },
        {
         "name": "content",
         "rawType": "object",
         "type": "string"
        }
       ],
       "conversionMethod": "pd.DataFrame",
       "ref": "239dbdb0-0cc4-4ba2-a98a-e519c3ed939b",
       "rows": [
        [
         "0",
         "true",
         "Building a wall on the U.S.-Mexico border will take literally years."
        ],
        [
         "1",
         "false",
         "Wisconsin is on pace to double the number of layoffs this year."
        ],
        [
         "2",
         "false",
         "Says John McCain has done nothing to help the vets."
        ],
        [
         "3",
         "half-true",
         "Suzanne Bonamici supports a plan that will cut choice for Medicare Advantage seniors."
        ],
        [
         "4",
         "pants-fire",
         "When asked by a reporter whether hes at the center of a criminal scheme to violate campaign laws, Gov. Scott Walker nodded yes."
        ],
        [
         "5",
         "true",
         "Over the past five years the federal government has paid out $601 million in retirement and disability benefits to deceased former federal employees."
        ],
        [
         "6",
         "true",
         "Says that Tennessee law requires that schools receive half of proceeds -- $31 million per year -- from a half-cent increase in the Shelby County sales tax."
        ],
        [
         "7",
         "barely-true",
         "Says Vice President Joe Biden \"admits that the American people are being scammed\" with the economic stimulus package."
        ],
        [
         "8",
         "true",
         "Donald Trump is against marriage equality. He wants to go back."
        ],
        [
         "9",
         "barely-true",
         "We know that more than half of Hillary Clintons meetings while she was secretary of state were given to major contributors to the Clinton Foundation."
        ],
        [
         "10",
         "barely-true",
         "We know there are more Democrats in Georgia than Republicans. We know that for a fact."
        ],
        [
         "11",
         "barely-true",
         "PolitiFact Texas says Congressman Edwards attacks on Bill Flores are false."
        ],
        [
         "12",
         "pants-fire",
         "Denali is the Kenyan word for black power."
        ],
        [
         "13",
         "false",
         "Says 57 percent of federal spending goes to the military and just 1 percent goes to food and agriculture, including food stamps."
        ],
        [
         "14",
         "half-true",
         "On residency requirements for public workers"
        ],
        [
         "15",
         "true",
         "Says the unemployment rate for college graduates is 4.4 percent and over 10 percent for noncollege-educated."
        ],
        [
         "16",
         "pants-fire",
         "Unfortunately we have documented instances where people defecated in the (Statehouse) building."
        ],
        [
         "17",
         "half-true",
         "A recent Gallup poll found that 72 percent of Americans and 56 percent of Democrats say the biggest threat to our nations security is big government."
        ],
        [
         "18",
         "true",
         "Each year, 18,000 people die in America because they don't have health care."
        ],
        [
         "19",
         "false",
         "Ronald Reagan faced an even worse recession than the current one."
        ],
        [
         "20",
         "mostly-true",
         "There have not been any public safety issues in cities that allow transgender people to use the bathroom of the gender they identify as."
        ],
        [
         "21",
         "half-true",
         "Says Mitt Romney was one of the first national Republican leaders to endorse Marco Rubio."
        ],
        [
         "22",
         "pants-fire",
         "The number of illegal immigrants could be 3 million. It could be 30 million."
        ],
        [
         "23",
         "mostly-true",
         "Marijuana is less toxic than alcohol."
        ],
        [
         "24",
         "false",
         "Says Charlie Crist is embroiled in a fraud case for steering taxpayer money to a de facto Ponzi scheme."
        ],
        [
         "25",
         "true",
         "Now, there was a time when someone like Scalia and Ginsburg got 95-plus votes."
        ],
        [
         "26",
         "barely-true",
         "I was gone when there was a red line against Syria."
        ],
        [
         "27",
         "half-true",
         "Tim Kaine hiked tuition as governor, but now claims to champion affordability."
        ],
        [
         "28",
         "true",
         "Contends that President Obama literally said (if) his cap-and-trade proposals were to pass, that utility rates, his words now, would, necessarily skyrocket."
        ],
        [
         "29",
         "mostly-true",
         "Active duty males in the military are twice as likely to develop prostate cancer than their civilian counterparts."
        ],
        [
         "30",
         "false",
         "Its been since 1888 that a Senate of a different party than the president in the White House confirmed a Supreme Court nominee."
        ],
        [
         "31",
         "false",
         "Under Rosemary Lehmberg, the Travis County D.A.s office convened the grand jury that indicted Rick Perry."
        ],
        [
         "32",
         "half-true",
         "On which team hes rooting for in the World Series."
        ],
        [
         "33",
         "half-true",
         "Tom Ganley has two Fs from the Better Business Bureau and over 160 complaints in just three years."
        ],
        [
         "34",
         "true",
         "The United States has a low voter turnout rate."
        ],
        [
         "35",
         "half-true",
         "Says Thomas Jefferson said, You might be able to fool the people for awhile, and they may go astray, but sooner or later the American people are going to wake up and they will correct the course."
        ],
        [
         "36",
         "barely-true",
         "Because of the federal health care law, 300,000 health plans canceled in Florida."
        ],
        [
         "37",
         "mostly-true",
         "In Massachusetts, Scott Brown pushed for a law to force women considering abortion -- force them -- to look at color photographs of developing fetuses."
        ],
        [
         "38",
         "true",
         "The Fed created $1.2 trillion out of nothing, gave it to banks, and some of them foreign banks, so that they could stabilize their operations."
        ],
        [
         "39",
         "true",
         "Texas families have kept more than $10 billion in their family budgets since we successfully fought to restore Texas sales tax deduction a decade ago."
        ],
        [
         "40",
         "barely-true",
         "Pre-existing conditions are covered under my (health care) plan."
        ],
        [
         "41",
         "half-true",
         "Greg Abbott activated the state guard to monitor Jade Helm 15 in case the troops try to impose martial law, disarm innocent Texans, and detain them in tunnels beneath closed Walmart stores."
        ],
        [
         "42",
         "pants-fire",
         "Says he won the second debate with Hillary Clinton in a landslide in every poll."
        ],
        [
         "43",
         "barely-true",
         "Says bag litter increased after San Francisco banned single-use shopping bags."
        ],
        [
         "44",
         "mostly-true",
         "In 1993, Newt Gingrich first advocated for the individual mandate in health care. And as recently as May of this year, he was still advocating for it."
        ],
        [
         "45",
         "barely-true",
         "Says as a result of the national health care reform, the Congressional Budget Office says we save $250 million over the first 10 years. Over the next 10 years, we save $1.2 trillion in savings in terms of health care."
        ],
        [
         "46",
         "half-true",
         "You said you would vote against the Patriot Act, then you came to the Senate, you voted for it."
        ],
        [
         "47",
         "mostly-true",
         "The federal minimum wage is worth about 20 percent less than it was when Ronald Reagan gave his first address to a joint session of Congress."
        ],
        [
         "48",
         "false",
         "A proposed tax to fund transportation projects would spend $90,000 to take a single vehicle off the road during the morning and afternoon commute."
        ],
        [
         "49",
         "barely-true",
         "A salesclerk at Hobby Lobby who needs contraception is not going to get that service through her employers health care plan because her employer doesnt think she should be using contraception."
        ]
       ],
       "shape": {
        "columns": 2,
        "rows": 1267
       }
      },
      "text/html": [
       "<div>\n",
       "<style scoped>\n",
       "    .dataframe tbody tr th:only-of-type {\n",
       "        vertical-align: middle;\n",
       "    }\n",
       "\n",
       "    .dataframe tbody tr th {\n",
       "        vertical-align: top;\n",
       "    }\n",
       "\n",
       "    .dataframe thead th {\n",
       "        text-align: right;\n",
       "    }\n",
       "</style>\n",
       "<table border=\"1\" class=\"dataframe\">\n",
       "  <thead>\n",
       "    <tr style=\"text-align: right;\">\n",
       "      <th></th>\n",
       "      <th>type</th>\n",
       "      <th>content</th>\n",
       "    </tr>\n",
       "  </thead>\n",
       "  <tbody>\n",
       "    <tr>\n",
       "      <th>0</th>\n",
       "      <td>true</td>\n",
       "      <td>Building a wall on the U.S.-Mexico border will...</td>\n",
       "    </tr>\n",
       "    <tr>\n",
       "      <th>1</th>\n",
       "      <td>false</td>\n",
       "      <td>Wisconsin is on pace to double the number of l...</td>\n",
       "    </tr>\n",
       "    <tr>\n",
       "      <th>2</th>\n",
       "      <td>false</td>\n",
       "      <td>Says John McCain has done nothing to help the ...</td>\n",
       "    </tr>\n",
       "    <tr>\n",
       "      <th>3</th>\n",
       "      <td>half-true</td>\n",
       "      <td>Suzanne Bonamici supports a plan that will cut...</td>\n",
       "    </tr>\n",
       "    <tr>\n",
       "      <th>4</th>\n",
       "      <td>pants-fire</td>\n",
       "      <td>When asked by a reporter whether hes at the ce...</td>\n",
       "    </tr>\n",
       "    <tr>\n",
       "      <th>...</th>\n",
       "      <td>...</td>\n",
       "      <td>...</td>\n",
       "    </tr>\n",
       "    <tr>\n",
       "      <th>1262</th>\n",
       "      <td>half-true</td>\n",
       "      <td>Says his budget provides the highest state fun...</td>\n",
       "    </tr>\n",
       "    <tr>\n",
       "      <th>1263</th>\n",
       "      <td>barely-true</td>\n",
       "      <td>Ive been here almost every day.</td>\n",
       "    </tr>\n",
       "    <tr>\n",
       "      <th>1264</th>\n",
       "      <td>barely-true</td>\n",
       "      <td>In the early 1980s, Sen. Edward Kennedy secret...</td>\n",
       "    </tr>\n",
       "    <tr>\n",
       "      <th>1265</th>\n",
       "      <td>barely-true</td>\n",
       "      <td>Says an EPA permit languished under Strickland...</td>\n",
       "    </tr>\n",
       "    <tr>\n",
       "      <th>1266</th>\n",
       "      <td>false</td>\n",
       "      <td>Says the governor is going around the state ta...</td>\n",
       "    </tr>\n",
       "  </tbody>\n",
       "</table>\n",
       "<p>1267 rows × 2 columns</p>\n",
       "</div>"
      ],
      "text/plain": [
       "             type                                            content\n",
       "0            true  Building a wall on the U.S.-Mexico border will...\n",
       "1           false  Wisconsin is on pace to double the number of l...\n",
       "2           false  Says John McCain has done nothing to help the ...\n",
       "3       half-true  Suzanne Bonamici supports a plan that will cut...\n",
       "4      pants-fire  When asked by a reporter whether hes at the ce...\n",
       "...           ...                                                ...\n",
       "1262    half-true  Says his budget provides the highest state fun...\n",
       "1263  barely-true                    Ive been here almost every day.\n",
       "1264  barely-true  In the early 1980s, Sen. Edward Kennedy secret...\n",
       "1265  barely-true  Says an EPA permit languished under Strickland...\n",
       "1266        false  Says the governor is going around the state ta...\n",
       "\n",
       "[1267 rows x 2 columns]"
      ]
     },
     "execution_count": 3,
     "metadata": {},
     "output_type": "execute_result"
    }
   ],
   "source": [
    "data = pd.read_csv('../liar_dataset/test.tsv', sep='\\t', header=None, usecols=[1,2])\n",
    "data = data.rename(columns={1: 'type', 2: 'content'})\n",
    "data"
   ]
  },
  {
   "cell_type": "code",
   "execution_count": 4,
   "metadata": {},
   "outputs": [
    {
     "data": {
      "text/plain": [
       "['true', 'barely-true', 'pants-fire', 'false', 'mostly-true', 'half-true']"
      ]
     },
     "execution_count": 4,
     "metadata": {},
     "output_type": "execute_result"
    }
   ],
   "source": [
    "list(set(data['type']))"
   ]
  },
  {
   "cell_type": "code",
   "execution_count": 7,
   "metadata": {},
   "outputs": [
    {
     "name": "stderr",
     "output_type": "stream",
     "text": [
      "[nltk_data] Downloading package stopwords to\n",
      "[nltk_data]     C:\\Users\\alexa\\AppData\\Roaming\\nltk_data...\n",
      "[nltk_data]   Package stopwords is already up-to-date!\n",
      "[nltk_data] Downloading package punkt to\n",
      "[nltk_data]     C:\\Users\\alexa\\AppData\\Roaming\\nltk_data...\n",
      "[nltk_data]   Package punkt is already up-to-date!\n"
     ]
    },
    {
     "name": "stdout",
     "output_type": "stream",
     "text": [
      "      type                                            content\n",
      "0        1                  build wall border take liter year\n",
      "1        0            wisconsin pace doubl number layoff year\n",
      "2        0                 say john mccain done noth help vet\n",
      "3        1  suzann bonamici support plan cut choic medicar...\n",
      "4        0  ask report whether center crimin scheme violat...\n",
      "...    ...                                                ...\n",
      "1262     1  say budget provid highest state fund level his...\n",
      "1263     0                               ive almost everi day\n",
      "1264     0  earli num edward kennedi secretli offer help s...\n",
      "1265     0  say epa permit languish strickland new epa dir...\n",
      "1266     0  say governor go around state talk fund incom t...\n",
      "\n",
      "[1267 rows x 2 columns]\n"
     ]
    }
   ],
   "source": [
    "import nltk\n",
    "from nltk.corpus import stopwords\n",
    "from nltk.stem.porter import *\n",
    "import pandas as pd\n",
    "import re\n",
    "\n",
    "nltk.download('stopwords')\n",
    "nltk.download('punkt')\n",
    "stopwords = stopwords.words('english')\n",
    "\n",
    "def full_clean(text: str, stopwords=stopwords):\n",
    "    text = text.lower()\n",
    "\n",
    "    text = re.sub(r'\\n', ' ', text) # Remove newlines\n",
    "    text = re.sub(r' +', ' ', text) # Remove multiple spaces\n",
    "\n",
    "    text = re.sub(r'([a-zA-Z]+) (\\d+)[, ]? (\\d{4})', '<DATE>', text) # Date substitution\n",
    "    text = re.sub(r'([.a-zA-Z0-9]+)@([-a-zA-Z0-9]+).([a-zA-Z]+)', '<EMAIL>', text) # E-Mail substitution\n",
    "    text = re.sub(r'(https?:\\/\\/)?(www.)?([-.a-zA-Z0-9]+)[.](co.uk|com|org|net)\\/?([\\%\\-\\.\\?\\_=a-zA-Z0-9\\/]+)?', '<URL>', text) # URL substitution\n",
    "    text = re.sub(r'[0-9]+', '<NUM>', text) # Number substitution\n",
    "\n",
    "    stemmer = PorterStemmer()                                   # Porter Stemmer from nltk\n",
    "    tokens = nltk.word_tokenize(text)                           # Tokenizing the text\n",
    "    tokens = [word for word in tokens if word.isalpha()]        # Removing punctuation\n",
    "    tokens = [word for word in tokens if word not in stopwords] # Removing Stopwords\n",
    "    tokens = [stemmer.stem(word) for word in tokens]            # Stemming all the words\n",
    "    return ' '.join(tokens) # Returning a string consisting of each word in the list\n",
    "\n",
    "data['content'] = data['content'].apply(full_clean)\n",
    "\n",
    "def is_credible(article_type):\n",
    "    if article_type in ['false', 'pants-fire', 'barely-true']:\n",
    "        return 0\n",
    "    elif article_type in ['half-true', 'mostly-true', 'true']:\n",
    "        return 1\n",
    "    \n",
    "data['type'] = data['type'].apply(is_credible)\n",
    "\n",
    "print(data)\n",
    "\n",
    "# Store Results\n",
    "\n",
    "# Save Cleaned Data\n",
    "# df.to_csv(\"clean_liar_test.csv\", index=False)\n",
    "\n",
    "# Display Sample Results"
   ]
  }
 ],
 "metadata": {
  "kernelspec": {
   "display_name": "gdsenv",
   "language": "python",
   "name": "python3"
  },
  "language_info": {
   "codemirror_mode": {
    "name": "ipython",
    "version": 3
   },
   "file_extension": ".py",
   "mimetype": "text/x-python",
   "name": "python",
   "nbconvert_exporter": "python",
   "pygments_lexer": "ipython3",
   "version": "3.12.8"
  }
 },
 "nbformat": 4,
 "nbformat_minor": 2
}
