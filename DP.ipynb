{
 "cells": [
  {
   "cell_type": "markdown",
   "metadata": {},
   "source": [
    "# Group Fake News Project\n",
    "# Part 0: Form Study Groups\n",
    "* Alf Kristiansen XGV820\n",
    "* Alexander\n",
    "* Victor\n",
    "* Diego\n",
    "\n",
    "# Part 1: Data Processing\n",
    "### Task 1: Retrieve sample of FakeNewsCorups\n",
    "https://raw.githubusercontent.com/several27/FakeNewsCorpus/master/news_sample.csv\n",
    "\n",
    "Check requirements for version control for our libraries used in this project.\n",
    "- MatPlotLib \n",
    "- scikit-learn\n",
    "- pandas\n",
    "- Selenium\n",
    "- NLTK\n",
    "\n",
    "\n"
   ]
  },
  {
   "cell_type": "code",
   "execution_count": null,
   "metadata": {},
   "outputs": [
    {
     "name": "stderr",
     "output_type": "stream",
     "text": [
      "[nltk_data] Downloading package stopwords to\n",
      "[nltk_data]     C:\\Users\\alfem\\AppData\\Roaming\\nltk_data...\n",
      "[nltk_data]   Package stopwords is already up-to-date!\n",
      "[nltk_data] Downloading package punkt to\n",
      "[nltk_data]     C:\\Users\\alfem\\AppData\\Roaming\\nltk_data...\n",
      "[nltk_data]   Package punkt is already up-to-date!\n"
     ]
    }
   ],
   "source": [
    "import pandas as pd\n",
    "import nltk\n",
    "import re\n",
    "from nltk.stem.porter import *\n",
    "from nltk.corpus import stopwords\n",
    "\n",
    "nltk.download('stopwords')\n",
    "nltk.download('punkt')\n",
    "\n",
    "english_stopwords = stopwords.words('english')\n",
    "\n",
    "omit_types = ['unreliable', 'unknown', 'rumor', \n",
    "              '2018-02-10 13:43:39.521661']\n",
    "\n",
    "for omit_type in omit_types:\n",
    "    df = df[df.type != omit_type]\n",
    "\n",
    "stopwords = stopwords.words('english')\n",
    "def full_clean(text: str, stopwords=english_stopwords):\n",
    "    text = text.lower()\n",
    "\n",
    "    text = re.sub(r'\\n', ' ', text) # Remove newlines\n",
    "    text = re.sub(r' +', ' ', text) # Remove multiple spaces\n",
    "\n",
    "    text = re.sub(r'([a-zA-Z]+) (\\d+)[, ]? (\\d{4})', '<DATE>', text) # Date substitution\n",
    "    text = re.sub(r'([.a-zA-Z0-9]+)@([-a-zA-Z0-9]+).([a-zA-Z]+)', '<EMAIL>', text) # E-Mail substitution\n",
    "    text = re.sub(r'(https?:\\/\\/)?(www.)?([-.a-zA-Z0-9]+)[.](co.uk|com|org|net)\\/?([\\%\\-\\.\\?\\_=a-zA-Z0-9\\/]+)?', '<URL>', text) # URL substitution\n",
    "    text = re.sub(r'[0-9]+', '<NUM>', text) # Number substitution\n",
    "\n",
    "    stemmer = PorterStemmer()                                   # Porter Stemmer from nltk\n",
    "    tokens = nltk.word_tokenize(text)                           # Tokenizing the text\n",
    "    tokens = [word for word in tokens if word.isalpha()]        # Removing punctuation\n",
    "    tokens = [word for word in tokens if word not in stopwords] # Removing Stopwords\n",
    "    tokens = [stemmer.stem(word) for word in tokens]            # Stemming all the words\n",
    "    return ' '.join(tokens) # Returning a string consisting of each word in the list\n",
    "\n",
    "def is_credible(article_type):\n",
    "    if article_type in ['fake', 'satire', 'conspiracy', 'bias', 'hate', 'junksci']:\n",
    "        return int(0)\n",
    "    \n",
    "    elif article_type in ['clickbait', 'political', 'reliable']:\n",
    "        return int(1)\n",
    "    \n",
    "    else:\n",
    "        return int(2)"
   ]
  },
  {
   "cell_type": "markdown",
   "metadata": {},
   "source": [
    "### Task 2: Apply data pre-processing pipeline"
   ]
  },
  {
   "cell_type": "code",
   "execution_count": null,
   "metadata": {},
   "outputs": [],
   "source": [
    "# Retrieve sample of FakeNewsCorpus\n",
    "df = pd.read_csv(\"src/995,000_rows.csv\", usecols = [\"type\", \"content\"])\n",
    "\n",
    "# Remove na instances\n",
    "df = df.dropna()\n",
    "# Remove duplicates\n",
    "df = df.drop_duplicates()\n",
    "\n",
    "omit_types = ['unreliable', 'unknown', 'rumor', \n",
    "              '2018-02-10 13:43:39.521661']\n",
    "\n",
    "for omit_type in omit_types:\n",
    "    df = df[df.type != omit_type]\n",
    "\n",
    "# Apply full_clean on dataset\n",
    "df[\"content\"] = df[\"content\"].apply(full_clean)\n",
    "\n",
    "# Apply is_credible on dataset\n",
    "df['type'] = df['type'].apply(is_credible)\n",
    "\n",
    "# Save Cleaned Data\n",
    "df.to_csv(\"src/clean_995000_news.csv\", index=False)\n",
    "\n",
    "# Display Sample Results\n",
    "print(df[[\"content\"]].head(10))"
   ]
  },
  {
   "cell_type": "code",
   "execution_count": null,
   "metadata": {},
   "outputs": [
    {
     "ename": "FileNotFoundError",
     "evalue": "[Errno 2] No such file or directory: 'src/cleaned_995000_news.csv'",
     "output_type": "error",
     "traceback": [
      "\u001b[1;31m---------------------------------------------------------------------------\u001b[0m",
      "\u001b[1;31mFileNotFoundError\u001b[0m                         Traceback (most recent call last)",
      "Cell \u001b[1;32mIn[12], line 2\u001b[0m\n\u001b[0;32m      1\u001b[0m \u001b[38;5;66;03m# Read \"cleaned_995000_news.csv\"\u001b[39;00m\n\u001b[1;32m----> 2\u001b[0m new_sample \u001b[38;5;241m=\u001b[39m \u001b[43mpd\u001b[49m\u001b[38;5;241;43m.\u001b[39;49m\u001b[43mread_csv\u001b[49m\u001b[43m(\u001b[49m\u001b[38;5;124;43m\"\u001b[39;49m\u001b[38;5;124;43msrc/cleaned_995000_news.csv\u001b[39;49m\u001b[38;5;124;43m\"\u001b[39;49m\u001b[43m)\u001b[49m\n\u001b[0;32m      3\u001b[0m \u001b[38;5;28mprint\u001b[39m(new_sample\u001b[38;5;241m.\u001b[39mhead(\u001b[38;5;241m100\u001b[39m))\n",
      "File \u001b[1;32mc:\\Users\\alfem\\anaconda3\\envs\\GDSE\\Lib\\site-packages\\pandas\\io\\parsers\\readers.py:1026\u001b[0m, in \u001b[0;36mread_csv\u001b[1;34m(filepath_or_buffer, sep, delimiter, header, names, index_col, usecols, dtype, engine, converters, true_values, false_values, skipinitialspace, skiprows, skipfooter, nrows, na_values, keep_default_na, na_filter, verbose, skip_blank_lines, parse_dates, infer_datetime_format, keep_date_col, date_parser, date_format, dayfirst, cache_dates, iterator, chunksize, compression, thousands, decimal, lineterminator, quotechar, quoting, doublequote, escapechar, comment, encoding, encoding_errors, dialect, on_bad_lines, delim_whitespace, low_memory, memory_map, float_precision, storage_options, dtype_backend)\u001b[0m\n\u001b[0;32m   1013\u001b[0m kwds_defaults \u001b[38;5;241m=\u001b[39m _refine_defaults_read(\n\u001b[0;32m   1014\u001b[0m     dialect,\n\u001b[0;32m   1015\u001b[0m     delimiter,\n\u001b[1;32m   (...)\u001b[0m\n\u001b[0;32m   1022\u001b[0m     dtype_backend\u001b[38;5;241m=\u001b[39mdtype_backend,\n\u001b[0;32m   1023\u001b[0m )\n\u001b[0;32m   1024\u001b[0m kwds\u001b[38;5;241m.\u001b[39mupdate(kwds_defaults)\n\u001b[1;32m-> 1026\u001b[0m \u001b[38;5;28;01mreturn\u001b[39;00m \u001b[43m_read\u001b[49m\u001b[43m(\u001b[49m\u001b[43mfilepath_or_buffer\u001b[49m\u001b[43m,\u001b[49m\u001b[43m \u001b[49m\u001b[43mkwds\u001b[49m\u001b[43m)\u001b[49m\n",
      "File \u001b[1;32mc:\\Users\\alfem\\anaconda3\\envs\\GDSE\\Lib\\site-packages\\pandas\\io\\parsers\\readers.py:620\u001b[0m, in \u001b[0;36m_read\u001b[1;34m(filepath_or_buffer, kwds)\u001b[0m\n\u001b[0;32m    617\u001b[0m _validate_names(kwds\u001b[38;5;241m.\u001b[39mget(\u001b[38;5;124m\"\u001b[39m\u001b[38;5;124mnames\u001b[39m\u001b[38;5;124m\"\u001b[39m, \u001b[38;5;28;01mNone\u001b[39;00m))\n\u001b[0;32m    619\u001b[0m \u001b[38;5;66;03m# Create the parser.\u001b[39;00m\n\u001b[1;32m--> 620\u001b[0m parser \u001b[38;5;241m=\u001b[39m \u001b[43mTextFileReader\u001b[49m\u001b[43m(\u001b[49m\u001b[43mfilepath_or_buffer\u001b[49m\u001b[43m,\u001b[49m\u001b[43m \u001b[49m\u001b[38;5;241;43m*\u001b[39;49m\u001b[38;5;241;43m*\u001b[39;49m\u001b[43mkwds\u001b[49m\u001b[43m)\u001b[49m\n\u001b[0;32m    622\u001b[0m \u001b[38;5;28;01mif\u001b[39;00m chunksize \u001b[38;5;129;01mor\u001b[39;00m iterator:\n\u001b[0;32m    623\u001b[0m     \u001b[38;5;28;01mreturn\u001b[39;00m parser\n",
      "File \u001b[1;32mc:\\Users\\alfem\\anaconda3\\envs\\GDSE\\Lib\\site-packages\\pandas\\io\\parsers\\readers.py:1620\u001b[0m, in \u001b[0;36mTextFileReader.__init__\u001b[1;34m(self, f, engine, **kwds)\u001b[0m\n\u001b[0;32m   1617\u001b[0m     \u001b[38;5;28mself\u001b[39m\u001b[38;5;241m.\u001b[39moptions[\u001b[38;5;124m\"\u001b[39m\u001b[38;5;124mhas_index_names\u001b[39m\u001b[38;5;124m\"\u001b[39m] \u001b[38;5;241m=\u001b[39m kwds[\u001b[38;5;124m\"\u001b[39m\u001b[38;5;124mhas_index_names\u001b[39m\u001b[38;5;124m\"\u001b[39m]\n\u001b[0;32m   1619\u001b[0m \u001b[38;5;28mself\u001b[39m\u001b[38;5;241m.\u001b[39mhandles: IOHandles \u001b[38;5;241m|\u001b[39m \u001b[38;5;28;01mNone\u001b[39;00m \u001b[38;5;241m=\u001b[39m \u001b[38;5;28;01mNone\u001b[39;00m\n\u001b[1;32m-> 1620\u001b[0m \u001b[38;5;28mself\u001b[39m\u001b[38;5;241m.\u001b[39m_engine \u001b[38;5;241m=\u001b[39m \u001b[38;5;28;43mself\u001b[39;49m\u001b[38;5;241;43m.\u001b[39;49m\u001b[43m_make_engine\u001b[49m\u001b[43m(\u001b[49m\u001b[43mf\u001b[49m\u001b[43m,\u001b[49m\u001b[43m \u001b[49m\u001b[38;5;28;43mself\u001b[39;49m\u001b[38;5;241;43m.\u001b[39;49m\u001b[43mengine\u001b[49m\u001b[43m)\u001b[49m\n",
      "File \u001b[1;32mc:\\Users\\alfem\\anaconda3\\envs\\GDSE\\Lib\\site-packages\\pandas\\io\\parsers\\readers.py:1880\u001b[0m, in \u001b[0;36mTextFileReader._make_engine\u001b[1;34m(self, f, engine)\u001b[0m\n\u001b[0;32m   1878\u001b[0m     \u001b[38;5;28;01mif\u001b[39;00m \u001b[38;5;124m\"\u001b[39m\u001b[38;5;124mb\u001b[39m\u001b[38;5;124m\"\u001b[39m \u001b[38;5;129;01mnot\u001b[39;00m \u001b[38;5;129;01min\u001b[39;00m mode:\n\u001b[0;32m   1879\u001b[0m         mode \u001b[38;5;241m+\u001b[39m\u001b[38;5;241m=\u001b[39m \u001b[38;5;124m\"\u001b[39m\u001b[38;5;124mb\u001b[39m\u001b[38;5;124m\"\u001b[39m\n\u001b[1;32m-> 1880\u001b[0m \u001b[38;5;28mself\u001b[39m\u001b[38;5;241m.\u001b[39mhandles \u001b[38;5;241m=\u001b[39m \u001b[43mget_handle\u001b[49m\u001b[43m(\u001b[49m\n\u001b[0;32m   1881\u001b[0m \u001b[43m    \u001b[49m\u001b[43mf\u001b[49m\u001b[43m,\u001b[49m\n\u001b[0;32m   1882\u001b[0m \u001b[43m    \u001b[49m\u001b[43mmode\u001b[49m\u001b[43m,\u001b[49m\n\u001b[0;32m   1883\u001b[0m \u001b[43m    \u001b[49m\u001b[43mencoding\u001b[49m\u001b[38;5;241;43m=\u001b[39;49m\u001b[38;5;28;43mself\u001b[39;49m\u001b[38;5;241;43m.\u001b[39;49m\u001b[43moptions\u001b[49m\u001b[38;5;241;43m.\u001b[39;49m\u001b[43mget\u001b[49m\u001b[43m(\u001b[49m\u001b[38;5;124;43m\"\u001b[39;49m\u001b[38;5;124;43mencoding\u001b[39;49m\u001b[38;5;124;43m\"\u001b[39;49m\u001b[43m,\u001b[49m\u001b[43m \u001b[49m\u001b[38;5;28;43;01mNone\u001b[39;49;00m\u001b[43m)\u001b[49m\u001b[43m,\u001b[49m\n\u001b[0;32m   1884\u001b[0m \u001b[43m    \u001b[49m\u001b[43mcompression\u001b[49m\u001b[38;5;241;43m=\u001b[39;49m\u001b[38;5;28;43mself\u001b[39;49m\u001b[38;5;241;43m.\u001b[39;49m\u001b[43moptions\u001b[49m\u001b[38;5;241;43m.\u001b[39;49m\u001b[43mget\u001b[49m\u001b[43m(\u001b[49m\u001b[38;5;124;43m\"\u001b[39;49m\u001b[38;5;124;43mcompression\u001b[39;49m\u001b[38;5;124;43m\"\u001b[39;49m\u001b[43m,\u001b[49m\u001b[43m \u001b[49m\u001b[38;5;28;43;01mNone\u001b[39;49;00m\u001b[43m)\u001b[49m\u001b[43m,\u001b[49m\n\u001b[0;32m   1885\u001b[0m \u001b[43m    \u001b[49m\u001b[43mmemory_map\u001b[49m\u001b[38;5;241;43m=\u001b[39;49m\u001b[38;5;28;43mself\u001b[39;49m\u001b[38;5;241;43m.\u001b[39;49m\u001b[43moptions\u001b[49m\u001b[38;5;241;43m.\u001b[39;49m\u001b[43mget\u001b[49m\u001b[43m(\u001b[49m\u001b[38;5;124;43m\"\u001b[39;49m\u001b[38;5;124;43mmemory_map\u001b[39;49m\u001b[38;5;124;43m\"\u001b[39;49m\u001b[43m,\u001b[49m\u001b[43m \u001b[49m\u001b[38;5;28;43;01mFalse\u001b[39;49;00m\u001b[43m)\u001b[49m\u001b[43m,\u001b[49m\n\u001b[0;32m   1886\u001b[0m \u001b[43m    \u001b[49m\u001b[43mis_text\u001b[49m\u001b[38;5;241;43m=\u001b[39;49m\u001b[43mis_text\u001b[49m\u001b[43m,\u001b[49m\n\u001b[0;32m   1887\u001b[0m \u001b[43m    \u001b[49m\u001b[43merrors\u001b[49m\u001b[38;5;241;43m=\u001b[39;49m\u001b[38;5;28;43mself\u001b[39;49m\u001b[38;5;241;43m.\u001b[39;49m\u001b[43moptions\u001b[49m\u001b[38;5;241;43m.\u001b[39;49m\u001b[43mget\u001b[49m\u001b[43m(\u001b[49m\u001b[38;5;124;43m\"\u001b[39;49m\u001b[38;5;124;43mencoding_errors\u001b[39;49m\u001b[38;5;124;43m\"\u001b[39;49m\u001b[43m,\u001b[49m\u001b[43m \u001b[49m\u001b[38;5;124;43m\"\u001b[39;49m\u001b[38;5;124;43mstrict\u001b[39;49m\u001b[38;5;124;43m\"\u001b[39;49m\u001b[43m)\u001b[49m\u001b[43m,\u001b[49m\n\u001b[0;32m   1888\u001b[0m \u001b[43m    \u001b[49m\u001b[43mstorage_options\u001b[49m\u001b[38;5;241;43m=\u001b[39;49m\u001b[38;5;28;43mself\u001b[39;49m\u001b[38;5;241;43m.\u001b[39;49m\u001b[43moptions\u001b[49m\u001b[38;5;241;43m.\u001b[39;49m\u001b[43mget\u001b[49m\u001b[43m(\u001b[49m\u001b[38;5;124;43m\"\u001b[39;49m\u001b[38;5;124;43mstorage_options\u001b[39;49m\u001b[38;5;124;43m\"\u001b[39;49m\u001b[43m,\u001b[49m\u001b[43m \u001b[49m\u001b[38;5;28;43;01mNone\u001b[39;49;00m\u001b[43m)\u001b[49m\u001b[43m,\u001b[49m\n\u001b[0;32m   1889\u001b[0m \u001b[43m\u001b[49m\u001b[43m)\u001b[49m\n\u001b[0;32m   1890\u001b[0m \u001b[38;5;28;01massert\u001b[39;00m \u001b[38;5;28mself\u001b[39m\u001b[38;5;241m.\u001b[39mhandles \u001b[38;5;129;01mis\u001b[39;00m \u001b[38;5;129;01mnot\u001b[39;00m \u001b[38;5;28;01mNone\u001b[39;00m\n\u001b[0;32m   1891\u001b[0m f \u001b[38;5;241m=\u001b[39m \u001b[38;5;28mself\u001b[39m\u001b[38;5;241m.\u001b[39mhandles\u001b[38;5;241m.\u001b[39mhandle\n",
      "File \u001b[1;32mc:\\Users\\alfem\\anaconda3\\envs\\GDSE\\Lib\\site-packages\\pandas\\io\\common.py:873\u001b[0m, in \u001b[0;36mget_handle\u001b[1;34m(path_or_buf, mode, encoding, compression, memory_map, is_text, errors, storage_options)\u001b[0m\n\u001b[0;32m    868\u001b[0m \u001b[38;5;28;01melif\u001b[39;00m \u001b[38;5;28misinstance\u001b[39m(handle, \u001b[38;5;28mstr\u001b[39m):\n\u001b[0;32m    869\u001b[0m     \u001b[38;5;66;03m# Check whether the filename is to be opened in binary mode.\u001b[39;00m\n\u001b[0;32m    870\u001b[0m     \u001b[38;5;66;03m# Binary mode does not support 'encoding' and 'newline'.\u001b[39;00m\n\u001b[0;32m    871\u001b[0m     \u001b[38;5;28;01mif\u001b[39;00m ioargs\u001b[38;5;241m.\u001b[39mencoding \u001b[38;5;129;01mand\u001b[39;00m \u001b[38;5;124m\"\u001b[39m\u001b[38;5;124mb\u001b[39m\u001b[38;5;124m\"\u001b[39m \u001b[38;5;129;01mnot\u001b[39;00m \u001b[38;5;129;01min\u001b[39;00m ioargs\u001b[38;5;241m.\u001b[39mmode:\n\u001b[0;32m    872\u001b[0m         \u001b[38;5;66;03m# Encoding\u001b[39;00m\n\u001b[1;32m--> 873\u001b[0m         handle \u001b[38;5;241m=\u001b[39m \u001b[38;5;28;43mopen\u001b[39;49m\u001b[43m(\u001b[49m\n\u001b[0;32m    874\u001b[0m \u001b[43m            \u001b[49m\u001b[43mhandle\u001b[49m\u001b[43m,\u001b[49m\n\u001b[0;32m    875\u001b[0m \u001b[43m            \u001b[49m\u001b[43mioargs\u001b[49m\u001b[38;5;241;43m.\u001b[39;49m\u001b[43mmode\u001b[49m\u001b[43m,\u001b[49m\n\u001b[0;32m    876\u001b[0m \u001b[43m            \u001b[49m\u001b[43mencoding\u001b[49m\u001b[38;5;241;43m=\u001b[39;49m\u001b[43mioargs\u001b[49m\u001b[38;5;241;43m.\u001b[39;49m\u001b[43mencoding\u001b[49m\u001b[43m,\u001b[49m\n\u001b[0;32m    877\u001b[0m \u001b[43m            \u001b[49m\u001b[43merrors\u001b[49m\u001b[38;5;241;43m=\u001b[39;49m\u001b[43merrors\u001b[49m\u001b[43m,\u001b[49m\n\u001b[0;32m    878\u001b[0m \u001b[43m            \u001b[49m\u001b[43mnewline\u001b[49m\u001b[38;5;241;43m=\u001b[39;49m\u001b[38;5;124;43m\"\u001b[39;49m\u001b[38;5;124;43m\"\u001b[39;49m\u001b[43m,\u001b[49m\n\u001b[0;32m    879\u001b[0m \u001b[43m        \u001b[49m\u001b[43m)\u001b[49m\n\u001b[0;32m    880\u001b[0m     \u001b[38;5;28;01melse\u001b[39;00m:\n\u001b[0;32m    881\u001b[0m         \u001b[38;5;66;03m# Binary mode\u001b[39;00m\n\u001b[0;32m    882\u001b[0m         handle \u001b[38;5;241m=\u001b[39m \u001b[38;5;28mopen\u001b[39m(handle, ioargs\u001b[38;5;241m.\u001b[39mmode)\n",
      "\u001b[1;31mFileNotFoundError\u001b[0m: [Errno 2] No such file or directory: 'src/cleaned_995000_news.csv'"
     ]
    }
   ],
   "source": [
    "# Read \"cleaned_995000_news.csv\"\n",
    "new_sample = pd.read_csv(\"src/clean_995000_news.csv\")\n",
    "print(new_sample.head(100))"
   ]
  },
  {
   "cell_type": "markdown",
   "metadata": {},
   "source": [
    "### Task 3: Exploration of proccesed dataset\n",
    "\n",
    "#### Distribution of types from original dataset"
   ]
  },
  {
   "cell_type": "code",
   "execution_count": null,
   "metadata": {},
   "outputs": [],
   "source": [
    "# Read originial dataset for data exploration\n",
    "news = pd.read_csv('src/995,000_rows.csv')"
   ]
  },
  {
   "cell_type": "code",
   "execution_count": null,
   "metadata": {},
   "outputs": [
    {
     "data": {
      "text/plain": [
       "{'political': 194518,\n",
       " 'fake': 104883,\n",
       " 'satire': 13160,\n",
       " 'reliable': 218563,\n",
       " 'conspiracy': 97314,\n",
       " 'bias': 133232,\n",
       " 'clickbait': 27412,\n",
       " 'hate': 8779,\n",
       " 'junksci': 14040}"
      ]
     },
     "execution_count": 7,
     "metadata": {},
     "output_type": "execute_result"
    }
   ],
   "source": [
    "# Function for counting instances of different types occuring in dataset\n",
    "def count_types(article_types):\n",
    "    found_types = {}\n",
    "\n",
    "    for article_type in article_types:\n",
    "        if article_type in found_types:\n",
    "            found_types[article_type] += 1\n",
    "        else:\n",
    "            found_types[article_type] = 1\n",
    "\n",
    "    return found_types\n",
    "\n",
    "count_types(list(news['type']))"
   ]
  },
  {
   "cell_type": "code",
   "execution_count": null,
   "metadata": {},
   "outputs": [
    {
     "data": {
      "text/plain": [
       "[371408, 440493]"
      ]
     },
     "execution_count": 9,
     "metadata": {},
     "output_type": "execute_result"
    }
   ],
   "source": [
    "# Count instances of fake or reliabe news\n",
    "def fake_credible(types: dict):\n",
    "    labels = [0, 0]\n",
    "    \n",
    "    for type in types:\n",
    "        if type in ['fake', 'satire', 'conspiracy', 'bias', 'hate', 'junksci']:\n",
    "            labels[0] += types[type]\n",
    "        elif type in ['clickbait', 'political', 'reliable']:\n",
    "            labels[1] += types[type]\n",
    "\n",
    "    return labels\n",
    "\n",
    "print(\"For the original dataset:\")\n",
    "fake_credible(count_types(list(news['type'])))\n"
   ]
  },
  {
   "cell_type": "markdown",
   "metadata": {},
   "source": [
    "#### Vocab: frequency of words in cleaned dataset"
   ]
  },
  {
   "cell_type": "code",
   "execution_count": 44,
   "metadata": {},
   "outputs": [],
   "source": [
    "vocab = []\n",
    "\n",
    "for content in new_sample['content']:\n",
    "    vocab.extend(nltk.word_tokenize(content))\n",
    "\n",
    "vocab = [word for word in vocab if word.isalpha()]"
   ]
  },
  {
   "cell_type": "code",
   "execution_count": 45,
   "metadata": {},
   "outputs": [],
   "source": [
    "def count_words(vocab):\n",
    "    words = {}\n",
    "\n",
    "    for word in vocab:\n",
    "        if word in words:\n",
    "            words[word] += 1\n",
    "        else:\n",
    "            words[word] = 1\n",
    "\n",
    "    return words"
   ]
  },
  {
   "cell_type": "code",
   "execution_count": null,
   "metadata": {},
   "outputs": [],
   "source": [
    "# Sort vocab from most frequent to least frequent\n",
    "sorted_vocab = {k: v for k, v in sorted(count_words(vocab).items(), key = lambda item: item[1], reverse=True)}"
   ]
  },
  {
   "cell_type": "code",
   "execution_count": null,
   "metadata": {},
   "outputs": [],
   "source": [
    "# New dataframe for the 10000 most frequent words\n",
    "frequent_words_10k = pd.DataFrame({'word': list(sorted_vocab)[:10000]})\n",
    "# Exporting dataframe to new csv filde\n",
    "frequent_words_10k.to_csv(\"src/frequent_words_clean_10k.csv\")"
   ]
  },
  {
   "cell_type": "code",
   "execution_count": null,
   "metadata": {},
   "outputs": [
    {
     "data": {
      "text/plain": [
       "{'num': 7386598,\n",
       " 'said': 1192745,\n",
       " 'one': 869736,\n",
       " 'new': 817397,\n",
       " 'would': 782571,\n",
       " 'time': 781390,\n",
       " 'state': 707026,\n",
       " 'peopl': 704747,\n",
       " 'year': 704408,\n",
       " 'like': 663285,\n",
       " 'also': 534112,\n",
       " 'say': 479711,\n",
       " 'make': 473540,\n",
       " 'use': 470030,\n",
       " 'us': 454982,\n",
       " 'get': 452017,\n",
       " 'go': 438699,\n",
       " 'even': 433049,\n",
       " 'work': 420898,\n",
       " 'govern': 410175,\n",
       " 'american': 403433,\n",
       " 'two': 401558,\n",
       " 'presid': 401314,\n",
       " 'report': 398169,\n",
       " 'could': 396724,\n",
       " 'continu': 392624,\n",
       " 'first': 390600,\n",
       " 'mani': 389326,\n",
       " 'stori': 384640,\n",
       " 'read': 382306,\n",
       " 'nation': 363569,\n",
       " 'right': 359977,\n",
       " 'day': 350528,\n",
       " 'take': 347066,\n",
       " 'world': 344425,\n",
       " 'last': 338565,\n",
       " 'way': 332397,\n",
       " 'think': 330434,\n",
       " 'want': 327039,\n",
       " 'trump': 325470,\n",
       " 'know': 322127,\n",
       " 'call': 321342,\n",
       " 'york': 320009,\n",
       " 'url': 319339,\n",
       " 'may': 318131,\n",
       " 'news': 313463,\n",
       " 'come': 309473,\n",
       " 'countri': 306213,\n",
       " 'need': 305071,\n",
       " 'includ': 299840,\n",
       " 'see': 294350,\n",
       " 'obama': 287914,\n",
       " 'back': 279592,\n",
       " 'much': 277254,\n",
       " 'unit': 274595,\n",
       " 'well': 272231,\n",
       " 'tri': 269833,\n",
       " 'show': 269544,\n",
       " 'polit': 265810,\n",
       " 'support': 265060,\n",
       " 'pleas': 262033,\n",
       " 'thing': 260996,\n",
       " 'date': 259170,\n",
       " 'look': 258806,\n",
       " 'hous': 258145,\n",
       " 'group': 257183,\n",
       " 'compani': 256014,\n",
       " 'main': 254381,\n",
       " 'live': 253663,\n",
       " 'law': 246730,\n",
       " 'made': 245282,\n",
       " 'help': 244207,\n",
       " 'sign': 242338,\n",
       " 'million': 239864,\n",
       " 'public': 238761,\n",
       " 'war': 238701,\n",
       " 'good': 233630,\n",
       " 'percent': 228345,\n",
       " 'still': 227700,\n",
       " 'point': 227459,\n",
       " 'sinc': 226312,\n",
       " 'week': 224707,\n",
       " 'part': 223918,\n",
       " 'power': 222355,\n",
       " 'democrat': 222244,\n",
       " 'chang': 221913,\n",
       " 'servic': 220901,\n",
       " 'citi': 219751,\n",
       " 'republican': 219067,\n",
       " 'offic': 218544,\n",
       " 'gener': 213824,\n",
       " 'plan': 213441,\n",
       " 'newslett': 210303,\n",
       " 'anoth': 208647,\n",
       " 'end': 208356,\n",
       " 'forc': 208349,\n",
       " 'market': 203309,\n",
       " 'must': 201983,\n",
       " 'issu': 200210,\n",
       " 'offici': 198427}"
      ]
     },
     "execution_count": 48,
     "metadata": {},
     "output_type": "execute_result"
    }
   ],
   "source": [
    "# 10000 most frequent words\n",
    "frequent_words_10k = dict(list(sorted_vocab.items()))\n",
    "frequent_words_10k"
   ]
  },
  {
   "cell_type": "code",
   "execution_count": 49,
   "metadata": {},
   "outputs": [
    {
     "name": "stdout",
     "output_type": "stream",
     "text": [
      "Amount of URLS: 319339\n",
      "Amount of Dates: 259170\n",
      "Amount of Numbers: 7386598\n",
      "Amount of Emails: 153647\n"
     ]
    }
   ],
   "source": [
    "print('Amount of URLS:', sorted_vocab['url'])\n",
    "print('Amount of Dates:', sorted_vocab['date'])\n",
    "print('Amount of Numbers:', sorted_vocab['num'])\n",
    "print('Amount of Emails:', sorted_vocab['email'])"
   ]
  },
  {
   "cell_type": "code",
   "execution_count": 50,
   "metadata": {},
   "outputs": [
    {
     "data": {
      "image/png": "[encoded data removed]",
      "text/plain": [
       "<Figure size 640x480 with 1 Axes>"
      ]
     },
     "metadata": {},
     "output_type": "display_data"
    }
   ],
   "source": [
    "import matplotlib.pyplot as plt\n",
    "\n",
    "plt.figure()\n",
    "plt.scatter(list(range(10000)), list(sorted_vocab.values())[:10000])\n",
    "plt.title('Most frequent words')\n",
    "plt.show()"
   ]
  },
  {
   "cell_type": "markdown",
   "metadata": {},
   "source": [
    "The graph of most frequent words follow Zipf's law (which is a powerlaw)"
   ]
  },
  {
   "cell_type": "markdown",
   "metadata": {},
   "source": [
    "### Task 4: split data\n",
    "We use the sklearn train_test_split function to split the data into the different sets"
   ]
  },
  {
   "cell_type": "code",
   "execution_count": 56,
   "metadata": {},
   "outputs": [
    {
     "name": "stdout",
     "output_type": "stream",
     "text": [
      "Training set size: 530839\n",
      "Validation set size: 66355\n",
      "Test set size: 66355\n"
     ]
    }
   ],
   "source": [
    "from sklearn.model_selection import train_test_split\n",
    "\n",
    "new_sample = new_sample[2:]\n",
    "\n",
    "X = new_sample.drop(columns=[\"content\"]).values  # Feature columns\n",
    "y = new_sample[\"type\"].values  # Target column\n",
    "\n",
    "# 80% training and 20% rest for validation and test\n",
    "X_train, X_vt, y_train, y_vt = train_test_split(X, y, test_size=0.2, random_state=0, stratify=y)\n",
    "\n",
    "# Split 20% into 10% validation and 10% test\n",
    "X_test, X_val, y_test, y_val = train_test_split(X_vt, y_vt, test_size=0.5, random_state=0, stratify=y_vt)\n",
    "\n",
    "# Print number of samples in each dataset\n",
    "print(f\"Training set size: {X_train.shape[0]}\")\n",
    "print(f\"Validation set size: {X_val.shape[0]}\")\n",
    "print(f\"Test set size: {X_test.shape[0]}\")"
   ]
  },
  {
   "cell_type": "markdown",
   "metadata": {},
   "source": [
    "# Part 2: Simple Logitstic Regression\n",
    "\n",
    "* Binary classification: `reliabe` or `fake`\n",
    "\n",
    "### Task 0: Label grouping\n",
    "0: `fake`\n",
    "1: `reliable`\n",
    "\n",
    "From part 1 task 1 we've defined a function `is_credible()` and classified the types into reliable or fake by using binary classification."
   ]
  },
  {
   "cell_type": "markdown",
   "metadata": {},
   "source": [
    "### Task 1: Logistic regression classifier\n",
    "* Fixed vocab of 10000 most frequent words.\n",
    "\n",
    "* F1 score"
   ]
  },
  {
   "cell_type": "code",
   "execution_count": 11,
   "metadata": {},
   "outputs": [
    {
     "ename": "NameError",
     "evalue": "name 'new_sample' is not defined",
     "output_type": "error",
     "traceback": [
      "\u001b[1;31m---------------------------------------------------------------------------\u001b[0m",
      "\u001b[1;31mNameError\u001b[0m                                 Traceback (most recent call last)",
      "Cell \u001b[1;32mIn[11], line 19\u001b[0m\n\u001b[0;32m     16\u001b[0m     \u001b[38;5;28;01mreturn\u001b[39;00m [word_counts\u001b[38;5;241m.\u001b[39mget(word, \u001b[38;5;241m0\u001b[39m) \u001b[38;5;28;01mfor\u001b[39;00m word \u001b[38;5;129;01min\u001b[39;00m vocab]  \u001b[38;5;66;03m# Keep only vocab words\u001b[39;00m\n\u001b[0;32m     18\u001b[0m \u001b[38;5;66;03m# Apply Function to the Entire Dataset\u001b[39;00m\n\u001b[1;32m---> 19\u001b[0m X \u001b[38;5;241m=\u001b[39m np\u001b[38;5;241m.\u001b[39marray([text_to_features(content, freq_words) \u001b[38;5;28;01mfor\u001b[39;00m content \u001b[38;5;129;01min\u001b[39;00m \u001b[43mnew_sample\u001b[49m[\u001b[38;5;124m\"\u001b[39m\u001b[38;5;124mcontent\u001b[39m\u001b[38;5;124m\"\u001b[39m]])\n\u001b[0;32m     20\u001b[0m y \u001b[38;5;241m=\u001b[39m new_sample[\u001b[38;5;124m\"\u001b[39m\u001b[38;5;124mtype\u001b[39m\u001b[38;5;124m\"\u001b[39m]\u001b[38;5;241m.\u001b[39mvalues  \u001b[38;5;66;03m# Target variable\u001b[39;00m\n\u001b[0;32m     22\u001b[0m \u001b[38;5;66;03m# Train/Test Split (80% Train, 10% Validation, 10% Test)\u001b[39;00m\n",
      "\u001b[1;31mNameError\u001b[0m: name 'new_sample' is not defined"
     ]
    }
   ],
   "source": [
    "import pandas as pd\n",
    "import numpy as np\n",
    "from collections import Counter\n",
    "from sklearn.model_selection import train_test_split\n",
    "from sklearn.linear_model import LogisticRegression\n",
    "from sklearn.metrics import accuracy_score, f1_score\n",
    "import re\n",
    "\n",
    "# 10000 most frequent words\n",
    "freq_words = pd.read_csv('src/frequent_words_10k.csv')\n",
    "\n",
    "def text_to_features(text, vocab):\n",
    "    \"\"\"Convert text into a word frequency vector based on a fixed vocabulary.\"\"\"\n",
    "    words = re.findall(r'\\b\\w+\\b', text.lower())  # Tokenization using regex\n",
    "    word_counts = Counter(words)  # Count occurrences of each word\n",
    "    return [word_counts.get(word, 0) for word in vocab]  # Keep only vocab words\n",
    "\n",
    "# Apply Function to the Entire Dataset\n",
    "X = np.array([text_to_features(content, freq_words) for content in new_sample[\"content\"]])\n",
    "y = new_sample[\"type\"].values  # Target variable\n",
    "\n",
    "# Train/Test Split (80% Train, 10% Validation, 10% Test)\n",
    "X_train, X_vt, y_train, y_vt = train_test_split(X, y, test_size=0.2, random_state=0, stratify=y)\n",
    "X_val, X_test, y_val, y_test = train_test_split(X_vt, y_vt, test_size=0.5, random_state=0, stratify=y_vt)\n",
    "\n",
    "# Train Logistic Regression Model\n",
    "modelLog = LogisticRegression(max_iter=500, solver=\"lbfgs\", C=1.0)\n",
    "modelLog.fit(X_train, y_train)\n",
    "\n",
    "# Make Predictions\n",
    "y_pred = modelLog.predict(X_val)\n",
    "\n",
    "# Evaluate Model Performance\n",
    "accuracy = accuracy_score(y_val, y_pred)\n",
    "f1 = f1_score(y_val, y_pred)\n",
    "\n",
    "# Print Results\n",
    "print(\"Logistic Regression Accuracy: \", accuracy)\n",
    "print(\"Logistic Regression F1-score: \", f1)"
   ]
  },
  {
   "cell_type": "markdown",
   "metadata": {},
   "source": [
    "### Task 2: meta-data features?"
   ]
  },
  {
   "cell_type": "markdown",
   "metadata": {},
   "source": [
    "### Task 3: Apply preproccessing pipeline to scraped reliable data"
   ]
  },
  {
   "cell_type": "code",
   "execution_count": null,
   "metadata": {},
   "outputs": [],
   "source": [
    "target_news = pd.read_csv(\"src/bbc_news.csv\")\n",
    "target_news[\"content\"] = target_news[\"content\"].apply(full_clean)\n",
    "target_news.to_csv(\"src/clean_bbc_news.csv\", index=False)"
   ]
  },
  {
   "cell_type": "code",
   "execution_count": 9,
   "metadata": {},
   "outputs": [
    {
     "ename": "NameError",
     "evalue": "name 'np' is not defined",
     "output_type": "error",
     "traceback": [
      "\u001b[1;31m---------------------------------------------------------------------------\u001b[0m",
      "\u001b[1;31mNameError\u001b[0m                                 Traceback (most recent call last)",
      "Cell \u001b[1;32mIn[9], line 4\u001b[0m\n\u001b[0;32m      1\u001b[0m new_news \u001b[38;5;241m=\u001b[39m pd\u001b[38;5;241m.\u001b[39mread_csv(\u001b[38;5;124m\"\u001b[39m\u001b[38;5;124msrc/clean_bbc_news.csv\u001b[39m\u001b[38;5;124m\"\u001b[39m)\n\u001b[0;32m      3\u001b[0m \u001b[38;5;66;03m# Transform the \"content\" Column into Word Count Vectors\u001b[39;00m\n\u001b[1;32m----> 4\u001b[0m X_new \u001b[38;5;241m=\u001b[39m \u001b[43mnp\u001b[49m\u001b[38;5;241m.\u001b[39marray([text_to_features(content, freq_words) \u001b[38;5;28;01mfor\u001b[39;00m content \u001b[38;5;129;01min\u001b[39;00m new_news[\u001b[38;5;124m\"\u001b[39m\u001b[38;5;124mcontent\u001b[39m\u001b[38;5;124m\"\u001b[39m]])\n\u001b[0;32m      6\u001b[0m \u001b[38;5;66;03m# Predict Fake or Reliable\u001b[39;00m\n\u001b[0;32m      7\u001b[0m new_predictions \u001b[38;5;241m=\u001b[39m modelLog\u001b[38;5;241m.\u001b[39mpredict(X_new)\n",
      "\u001b[1;31mNameError\u001b[0m: name 'np' is not defined"
     ]
    }
   ],
   "source": [
    "new_news = pd.read_csv(\"src/clean_bbc_news.csv\")\n",
    "\n",
    "# Transform the \"content\" Column into Word Count Vectors\n",
    "X_new = np.array([text_to_features(content, freq_words) for content in new_news[\"content\"]])\n",
    "\n",
    "# Predict Fake or Reliable\n",
    "new_predictions = modelLog.predict(X_new)\n",
    "\n",
    "# Store Results\n",
    "new_news[\"prediction\"] = new_predictions  # Append predictions to the dataset\n",
    "\n",
    "# Save Predictions to a CSV File\n",
    "new_news.to_csv(\"src/classified_bbc_news.csv\", index=False)\n",
    "\n",
    "# Display Results\n",
    "print(new_news[[\"content\", \"prediction\"]].head(10))  # Show first 10 predictions"
   ]
  },
  {
   "cell_type": "code",
   "execution_count": 8,
   "metadata": {},
   "outputs": [
    {
     "data": {
      "text/plain": [
       "'classified articles fake: 0, and reliable: 672'"
      ]
     },
     "execution_count": 8,
     "metadata": {},
     "output_type": "execute_result"
    }
   ],
   "source": [
    "classified_news = pd.read_csv(\"src/classified_bbc_news.csv\")\n",
    "classified_news[\"prediction\"]\n",
    "\n",
    "def counting(classified):\n",
    "    reliable = 0\n",
    "    fake = 0\n",
    "\n",
    "    for classification in classified:\n",
    "        if classification == 0 :\n",
    "            fake += 1\n",
    "        elif classification == 1:\n",
    "            reliable += 1\n",
    "\n",
    "    return (f\"classified articles fake: {fake}, and reliable: {reliable}\")\n",
    "\n",
    "counting(list(classified_news['prediction']))"
   ]
  },
  {
   "cell_type": "markdown",
   "metadata": {},
   "source": [
    "# Part 3: Advanced model"
   ]
  }
 ],
 "metadata": {
  "kernelspec": {
   "display_name": "GDSE",
   "language": "python",
   "name": "python3"
  },
  "language_info": {
   "codemirror_mode": {
    "name": "ipython",
    "version": 3
   },
   "file_extension": ".py",
   "mimetype": "text/x-python",
   "name": "python",
   "nbconvert_exporter": "python",
   "pygments_lexer": "ipython3",
   "version": "3.12.8"
  }
 },
 "nbformat": 4,
 "nbformat_minor": 2
}
