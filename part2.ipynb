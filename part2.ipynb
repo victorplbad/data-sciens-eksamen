{
 "cells": [
  {
   "cell_type": "markdown",
   "metadata": {},
   "source": [
    "# Part 2: Simple Logitstic Regression\n",
    "\n",
    "* Binary classification: `reliabe` or `fake`\n",
    "\n",
    "### Task 0: Label grouping\n"
   ]
  },
  {
   "cell_type": "code",
   "execution_count": null,
   "metadata": {},
   "outputs": [],
   "source": []
  },
  {
   "cell_type": "markdown",
   "metadata": {},
   "source": [
    "### Task 1: Logistic regression classifier\n",
    "* Fixed vocab of 10000 most frequent words.\n",
    "\n",
    "* F1 score"
   ]
  },
  {
   "cell_type": "code",
   "execution_count": null,
   "metadata": {},
   "outputs": [],
   "source": [
    "# LogisticRegression MODEL USING SKLEARN. ASSIGN THE MODEL TO THE VARIABLE model.\n",
    "from sklearn.linear_model import LogisticRegression\n",
    "modelLog = LogisticRegression(max_iter=200)\n",
    "\n",
    "# FIT THE MODEL AND MAKE PREDICTIONS ON THE TEST SET. ASSIGN THE PREDICTIONS TO THE VARIABLE y_pred.\n",
    "fitLog = modelLog.fit(X_train, y_train)\n",
    "y_pred = fitLog.predict(X_test)\n",
    "y_pred_rounded = y_pred.round().astype(int)\n",
    "\n",
    "# ASSIGN YOUR MODEL'S TEST SET MSE TO THE VARIABLE mse AND ITS ACCURACY TO THE VARIABLE acc.\n",
    "from sklearn.metrics import mean_squared_error, accuracy_score\n",
    "\n",
    "mse = mean_squared_error(y_test, y_pred)\n",
    "acc = accuracy_score(y_test, y_pred_rounded)\n",
    "\n",
    "# DO NOT INSERT OR CHANGE ANYTHING BELOW\n",
    "print(\"LogisticRegression MSE: \", mse)\n",
    "print(\"LogisticRegression accuracy: \", acc)"
   ]
  },
  {
   "cell_type": "markdown",
   "metadata": {},
   "source": [
    "### Task 2: meta-data features?"
   ]
  },
  {
   "cell_type": "code",
   "execution_count": null,
   "metadata": {},
   "outputs": [],
   "source": []
  },
  {
   "cell_type": "markdown",
   "metadata": {},
   "source": [
    "### Task 3: Apply preproccessing pipeline to scraped reliable data"
   ]
  }
 ],
 "metadata": {
  "kernelspec": {
   "display_name": "GDSE",
   "language": "python",
   "name": "python3"
  },
  "language_info": {
   "codemirror_mode": {
    "name": "ipython",
    "version": 3
   },
   "file_extension": ".py",
   "mimetype": "text/x-python",
   "name": "python",
   "nbconvert_exporter": "python",
   "pygments_lexer": "ipython3",
   "version": "3.12.8"
  }
 },
 "nbformat": 4,
 "nbformat_minor": 2
}
