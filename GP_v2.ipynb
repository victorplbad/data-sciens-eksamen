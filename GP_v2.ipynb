{
 "cells": [
  {
   "cell_type": "markdown",
   "metadata": {},
   "source": [
    "# Group Fake News Project\n",
    "# Part 0: Form Study Groups\n",
    "* Alf Kristiansen XGV820\n",
    "* Alexander\n",
    "* Victor\n",
    "* Diego\n",
    "\n",
    "# Part 1: Data Processing\n",
    "### Task 1: Retrieve sample of FakeNewsCorups\n",
    "https://raw.githubusercontent.com/several27/FakeNewsCorpus/master/news_sample.csv\n",
    "\n",
    "Check requirements for version control for our libraries used in this project.\n",
    "- MatPlotLib \n",
    "- scikit-learn\n",
    "- pandas\n",
    "- Selenium\n",
    "- NLTK\n",
    "\n",
    "\n"
   ]
  },
  {
   "cell_type": "code",
   "execution_count": null,
   "metadata": {},
   "outputs": [],
   "source": [
    "import nltk\n",
    "from nltk.corpus import stopwords\n",
    "from nltk.stem.porter import *\n",
    "import pandas as pd\n",
    "import re"
   ]
  },
  {
   "cell_type": "code",
   "execution_count": null,
   "metadata": {},
   "outputs": [
    {
     "name": "stderr",
     "output_type": "stream",
     "text": [
      "[nltk_data] Downloading package stopwords to\n",
      "[nltk_data]     C:\\Users\\alfem\\AppData\\Roaming\\nltk_data...\n",
      "[nltk_data]   Package stopwords is already up-to-date!\n",
      "[nltk_data] Downloading package punkt to\n",
      "[nltk_data]     C:\\Users\\alfem\\AppData\\Roaming\\nltk_data...\n",
      "[nltk_data]   Package punkt is already up-to-date!\n"
     ]
    },
    {
     "name": "stdout",
     "output_type": "stream",
     "text": [
      "                                              content\n",
      "0   plu one articl googl plu thank ali alfoneh ass...\n",
      "1   cost best senat bank committe jp morgan buy nu...\n",
      "2   man awoken num coma commit suicid learn donald...\n",
      "3   julia geist ask draw pictur comput scientist l...\n",
      "4   num compil studi vaccin danger activist post n...\n",
      "5   spend major wake hour stare contentedli comput...\n",
      "6   disclaim gener inform law topic noth diari con...\n",
      "7   new report identifi num epicent worldwid chang...\n",
      "9   dear reader excit announc voic russia chang na...\n",
      "10  plu one articl googl plu thank ali alfoneh ass...\n"
     ]
    }
   ],
   "source": [
    "nltk.download('stopwords')\n",
    "nltk.download('punkt')\n",
    "\n",
    "df = pd.read_csv(\"995,000_rows.csv\", usecols = [\"type\", \"content\"])\n",
    "df = df.dropna()\n",
    "\n",
    "omit_types = ['unreliable', 'unknown', 'rumor', \n",
    "              '2018-02-10 13:43:39.521661']\n",
    "\n",
    "for omit_type in omit_types:\n",
    "    df = df[df.type != omit_type]\n",
    "\n",
    "stopwords = stopwords.words('english')\n",
    "\n",
    "def full_clean(text: str, stopwords=stopwords):\n",
    "    text = text.lower()\n",
    "\n",
    "    text = re.sub(r'\\n', ' ', text) # Remove newlines\n",
    "    text = re.sub(r' +', ' ', text) # Remove multiple spaces\n",
    "\n",
    "    text = re.sub(r'([a-zA-Z]+) (\\d+)[, ]? (\\d{4})', '<DATE>', text) # Date substitution\n",
    "    text = re.sub(r'([.a-zA-Z0-9]+)@([-a-zA-Z0-9]+).([a-zA-Z]+)', '<EMAIL>', text) # E-Mail substitution\n",
    "    text = re.sub(r'(https?:\\/\\/)?(www.)?([-.a-zA-Z0-9]+)[.](co.uk|com|org|net)\\/?([\\%\\-\\.\\?\\_=a-zA-Z0-9\\/]+)?', '<URL>', text) # URL substitution\n",
    "    text = re.sub(r'[0-9]+', '<NUM>', text) # Number substitution\n",
    "\n",
    "    stemmer = PorterStemmer()                                   # Porter Stemmer from nltk\n",
    "    tokens = nltk.word_tokenize(text)                           # Tokenizing the text\n",
    "    tokens = [word for word in tokens if word.isalpha()]        # Removing punctuation\n",
    "    tokens = [word for word in tokens if word not in stopwords] # Removing Stopwords\n",
    "    tokens = [stemmer.stem(word) for word in tokens]            # Stemming all the words\n",
    "    return ' '.join(tokens) # Returning a string consisting of each word in the list\n",
    "\n",
    "df[\"content\"] = df[\"content\"].apply(full_clean)\n",
    "\n",
    "def is_credible(article_type):\n",
    "    if article_type in ['fake', 'satire', 'conspiracy', 'bias', 'hate', 'junksci']:\n",
    "        return int(0)\n",
    "    \n",
    "    elif article_type in ['clickbait', 'political', 'reliable']:\n",
    "        return int(1)\n",
    "    \n",
    "    else:\n",
    "        return int(2)\n",
    "    \n",
    "df['type'] = df['type'].apply(is_credible)\n",
    "\n",
    "# Store Results\n",
    "\n",
    "# Save Cleaned Data\n",
    "df.to_csv(\"cleaned_995000_news.csv\", index=False)\n",
    "\n",
    "# Display Sample Results\n",
    "print(df[[\"content\"]].head(10))"
   ]
  },
  {
   "cell_type": "code",
   "execution_count": 1,
   "metadata": {},
   "outputs": [
    {
     "ename": "NameError",
     "evalue": "name 'pd' is not defined",
     "output_type": "error",
     "traceback": [
      "\u001b[1;31m---------------------------------------------------------------------------\u001b[0m",
      "\u001b[1;31mNameError\u001b[0m                                 Traceback (most recent call last)",
      "Cell \u001b[1;32mIn[1], line 1\u001b[0m\n\u001b[1;32m----> 1\u001b[0m new_sample \u001b[38;5;241m=\u001b[39m \u001b[43mpd\u001b[49m\u001b[38;5;241m.\u001b[39mread_csv(\u001b[38;5;124m\"\u001b[39m\u001b[38;5;124mcleaned_995000_news.csv\u001b[39m\u001b[38;5;124m\"\u001b[39m)\n\u001b[0;32m      2\u001b[0m new_sample \u001b[38;5;241m=\u001b[39m new_sample\u001b[38;5;241m.\u001b[39mdropna()\n\u001b[0;32m      4\u001b[0m \u001b[38;5;28mprint\u001b[39m(new_sample\u001b[38;5;241m.\u001b[39mhead(\u001b[38;5;241m100\u001b[39m))\n",
      "\u001b[1;31mNameError\u001b[0m: name 'pd' is not defined"
     ]
    }
   ],
   "source": [
    "new_sample = pd.read_csv(\"cleaned_995000_news.csv\")\n",
    "new_sample = new_sample.dropna()\n",
    "\n",
    "print(new_sample.head(100))"
   ]
  },
  {
   "cell_type": "markdown",
   "metadata": {},
   "source": [
    "### Task 2: Apply data pre-processing pipeline"
   ]
  },
  {
   "cell_type": "code",
   "execution_count": 1,
   "metadata": {},
   "outputs": [],
   "source": [
    "import matplotlib.pyplot as plt\n",
    "import pandas as pd\n",
    "import nltk\n",
    "import re\n",
    "\n",
    "def clean_data(raw_text: str):\n",
    "    text = raw_text.lower()\n",
    "\n",
    "    text = re.sub(r'\\n', ' ', text) # Remove newlines\n",
    "    text = re.sub(r' +', ' ', text) # Remove multiple spaces\n",
    "\n",
    "    text = re.sub(r'([a-zA-Z]+) (\\d+)[, ]? (\\d{4})', '<DATE>', text) # Date substitution\n",
    "    text = re.sub(r'([.a-zA-Z0-9]+)@([-a-zA-Z0-9]+).([a-zA-Z]+)', '<EMAIL>', text) # E-Mail substitution\n",
    "    text = re.sub(r'(https?:\\/\\/)?(www.)?([-.a-zA-Z0-9]+)[.](co.uk|com|org|net)\\/?([\\%\\-\\.\\?\\_=a-zA-Z0-9\\/]+)?', '<URL>', text) # URL substitution\n",
    "    text = re.sub(r'[0-9]+', '<NUM>', text) # Number substitution\n",
    "\n",
    "    return text"
   ]
  },
  {
   "cell_type": "markdown",
   "metadata": {},
   "source": []
  },
  {
   "cell_type": "code",
   "execution_count": 2,
   "metadata": {},
   "outputs": [],
   "source": [
    "news = pd.read_csv('995,000_rows.csv', usecols=['type','content'])\n",
    "news = news.dropna()"
   ]
  },
  {
   "cell_type": "code",
   "execution_count": 3,
   "metadata": {},
   "outputs": [],
   "source": [
    "omit_types = ['unreliable', 'unknown', 'rumor', \n",
    "              '2018-02-10 13:43:39.521661']\n",
    "\n",
    "for omit_type in omit_types:\n",
    "    news = news[news.type != omit_type]\n"
   ]
  },
  {
   "cell_type": "code",
   "execution_count": 4,
   "metadata": {},
   "outputs": [
    {
     "data": {
      "text/html": [
       "<div>\n",
       "<style scoped>\n",
       "    .dataframe tbody tr th:only-of-type {\n",
       "        vertical-align: middle;\n",
       "    }\n",
       "\n",
       "    .dataframe tbody tr th {\n",
       "        vertical-align: top;\n",
       "    }\n",
       "\n",
       "    .dataframe thead th {\n",
       "        text-align: right;\n",
       "    }\n",
       "</style>\n",
       "<table border=\"1\" class=\"dataframe\">\n",
       "  <thead>\n",
       "    <tr style=\"text-align: right;\">\n",
       "      <th></th>\n",
       "      <th>type</th>\n",
       "      <th>content</th>\n",
       "    </tr>\n",
       "  </thead>\n",
       "  <tbody>\n",
       "    <tr>\n",
       "      <th>0</th>\n",
       "      <td>political</td>\n",
       "      <td>Plus one article on Google Plus\\n\\n(Thanks to ...</td>\n",
       "    </tr>\n",
       "    <tr>\n",
       "      <th>1</th>\n",
       "      <td>fake</td>\n",
       "      <td>The Cost Of The Best Senate Banking Committee ...</td>\n",
       "    </tr>\n",
       "    <tr>\n",
       "      <th>2</th>\n",
       "      <td>satire</td>\n",
       "      <td>Man Awoken From 27-Year Coma Commits Suicide A...</td>\n",
       "    </tr>\n",
       "    <tr>\n",
       "      <th>3</th>\n",
       "      <td>reliable</td>\n",
       "      <td>WHEN Julia Geist was asked to draw a picture o...</td>\n",
       "    </tr>\n",
       "    <tr>\n",
       "      <th>4</th>\n",
       "      <td>conspiracy</td>\n",
       "      <td>– 100 Compiled Studies on Vaccine Dangers (Act...</td>\n",
       "    </tr>\n",
       "    <tr>\n",
       "      <th>...</th>\n",
       "      <td>...</td>\n",
       "      <td>...</td>\n",
       "    </tr>\n",
       "    <tr>\n",
       "      <th>994992</th>\n",
       "      <td>reliable</td>\n",
       "      <td>The great thing about the phone camera is that...</td>\n",
       "    </tr>\n",
       "    <tr>\n",
       "      <th>994994</th>\n",
       "      <td>political</td>\n",
       "      <td>Plus one article on Google Plus\\n\\n(Thanks to ...</td>\n",
       "    </tr>\n",
       "    <tr>\n",
       "      <th>994995</th>\n",
       "      <td>conspiracy</td>\n",
       "      <td>By\\n\\n21WIRE + Intervention Watch | All we can...</td>\n",
       "    </tr>\n",
       "    <tr>\n",
       "      <th>994996</th>\n",
       "      <td>political</td>\n",
       "      <td>Plus one article on Google Plus\\n\\n(Thanks to ...</td>\n",
       "    </tr>\n",
       "    <tr>\n",
       "      <th>994999</th>\n",
       "      <td>bias</td>\n",
       "      <td>CNN promoting coup in Venezuela - Maduro\\n\\nOn...</td>\n",
       "    </tr>\n",
       "  </tbody>\n",
       "</table>\n",
       "<p>811901 rows × 2 columns</p>\n",
       "</div>"
      ],
      "text/plain": [
       "              type                                            content\n",
       "0        political  Plus one article on Google Plus\\n\\n(Thanks to ...\n",
       "1             fake  The Cost Of The Best Senate Banking Committee ...\n",
       "2           satire  Man Awoken From 27-Year Coma Commits Suicide A...\n",
       "3         reliable  WHEN Julia Geist was asked to draw a picture o...\n",
       "4       conspiracy  – 100 Compiled Studies on Vaccine Dangers (Act...\n",
       "...            ...                                                ...\n",
       "994992    reliable  The great thing about the phone camera is that...\n",
       "994994   political  Plus one article on Google Plus\\n\\n(Thanks to ...\n",
       "994995  conspiracy  By\\n\\n21WIRE + Intervention Watch | All we can...\n",
       "994996   political  Plus one article on Google Plus\\n\\n(Thanks to ...\n",
       "994999        bias  CNN promoting coup in Venezuela - Maduro\\n\\nOn...\n",
       "\n",
       "[811901 rows x 2 columns]"
      ]
     },
     "execution_count": 4,
     "metadata": {},
     "output_type": "execute_result"
    }
   ],
   "source": [
    "news.head(995000)"
   ]
  },
  {
   "cell_type": "markdown",
   "metadata": {},
   "source": [
    "Text"
   ]
  },
  {
   "cell_type": "code",
   "execution_count": 5,
   "metadata": {},
   "outputs": [],
   "source": [
    "news['content'] = news['content'].apply(clean_data)"
   ]
  },
  {
   "cell_type": "code",
   "execution_count": 6,
   "metadata": {},
   "outputs": [
    {
     "data": {
      "text/html": [
       "<div>\n",
       "<style scoped>\n",
       "    .dataframe tbody tr th:only-of-type {\n",
       "        vertical-align: middle;\n",
       "    }\n",
       "\n",
       "    .dataframe tbody tr th {\n",
       "        vertical-align: top;\n",
       "    }\n",
       "\n",
       "    .dataframe thead th {\n",
       "        text-align: right;\n",
       "    }\n",
       "</style>\n",
       "<table border=\"1\" class=\"dataframe\">\n",
       "  <thead>\n",
       "    <tr style=\"text-align: right;\">\n",
       "      <th></th>\n",
       "      <th>type</th>\n",
       "      <th>content</th>\n",
       "    </tr>\n",
       "  </thead>\n",
       "  <tbody>\n",
       "    <tr>\n",
       "      <th>0</th>\n",
       "      <td>political</td>\n",
       "      <td>plus one article on google plus (thanks to ali...</td>\n",
       "    </tr>\n",
       "    <tr>\n",
       "      <th>1</th>\n",
       "      <td>fake</td>\n",
       "      <td>the cost of the best senate banking committee ...</td>\n",
       "    </tr>\n",
       "    <tr>\n",
       "      <th>2</th>\n",
       "      <td>satire</td>\n",
       "      <td>man awoken from &lt;NUM&gt;-year coma commits suicid...</td>\n",
       "    </tr>\n",
       "    <tr>\n",
       "      <th>3</th>\n",
       "      <td>reliable</td>\n",
       "      <td>when julia geist was asked to draw a picture o...</td>\n",
       "    </tr>\n",
       "    <tr>\n",
       "      <th>4</th>\n",
       "      <td>conspiracy</td>\n",
       "      <td>– &lt;NUM&gt; compiled studies on vaccine dangers (a...</td>\n",
       "    </tr>\n",
       "    <tr>\n",
       "      <th>5</th>\n",
       "      <td>reliable</td>\n",
       "      <td>if you spend the majority of your waking hours...</td>\n",
       "    </tr>\n",
       "    <tr>\n",
       "      <th>6</th>\n",
       "      <td>political</td>\n",
       "      <td>disclaimer. this is general information on a l...</td>\n",
       "    </tr>\n",
       "    <tr>\n",
       "      <th>7</th>\n",
       "      <td>political</td>\n",
       "      <td>a new report identifies &lt;NUM&gt; \"epicenters\" wor...</td>\n",
       "    </tr>\n",
       "    <tr>\n",
       "      <th>9</th>\n",
       "      <td>bias</td>\n",
       "      <td>dear readers, we are excited to announce that ...</td>\n",
       "    </tr>\n",
       "    <tr>\n",
       "      <th>10</th>\n",
       "      <td>political</td>\n",
       "      <td>plus one article on google plus (thanks to ali...</td>\n",
       "    </tr>\n",
       "  </tbody>\n",
       "</table>\n",
       "</div>"
      ],
      "text/plain": [
       "          type                                            content\n",
       "0    political  plus one article on google plus (thanks to ali...\n",
       "1         fake  the cost of the best senate banking committee ...\n",
       "2       satire  man awoken from <NUM>-year coma commits suicid...\n",
       "3     reliable  when julia geist was asked to draw a picture o...\n",
       "4   conspiracy  – <NUM> compiled studies on vaccine dangers (a...\n",
       "5     reliable  if you spend the majority of your waking hours...\n",
       "6    political  disclaimer. this is general information on a l...\n",
       "7    political  a new report identifies <NUM> \"epicenters\" wor...\n",
       "9         bias  dear readers, we are excited to announce that ...\n",
       "10   political  plus one article on google plus (thanks to ali..."
      ]
     },
     "execution_count": 6,
     "metadata": {},
     "output_type": "execute_result"
    }
   ],
   "source": [
    "news.head(10)"
   ]
  },
  {
   "cell_type": "markdown",
   "metadata": {},
   "source": [
    "### Task 3: Exploration of proccesed dataset\n",
    "\n",
    "Distribution of types"
   ]
  },
  {
   "cell_type": "code",
   "execution_count": 7,
   "metadata": {},
   "outputs": [
    {
     "data": {
      "text/plain": [
       "{'political': 194518,\n",
       " 'fake': 104883,\n",
       " 'satire': 13160,\n",
       " 'reliable': 218563,\n",
       " 'conspiracy': 97314,\n",
       " 'bias': 133232,\n",
       " 'clickbait': 27412,\n",
       " 'hate': 8779,\n",
       " 'junksci': 14040}"
      ]
     },
     "execution_count": 7,
     "metadata": {},
     "output_type": "execute_result"
    }
   ],
   "source": [
    "def count_types(article_types):\n",
    "    found_types = {}\n",
    "\n",
    "    for article_type in article_types:\n",
    "        if article_type in found_types:\n",
    "            found_types[article_type] += 1\n",
    "        else:\n",
    "            found_types[article_type] = 1\n",
    "\n",
    "    return found_types\n",
    "\n",
    "count_types(list(news['type']))"
   ]
  },
  {
   "cell_type": "code",
   "execution_count": null,
   "metadata": {},
   "outputs": [
    {
     "data": {
      "text/plain": [
       "[371408, 440493]"
      ]
     },
     "execution_count": 9,
     "metadata": {},
     "output_type": "execute_result"
    }
   ],
   "source": [
    "def fake_credible(types: dict):\n",
    "    labels = [0, 0]\n",
    "    \n",
    "    for type in types:\n",
    "        if type in ['fake', 'satire', 'conspiracy', 'bias', 'hate', 'junksci']:\n",
    "            labels[0] += types[type]\n",
    "        elif type in ['clickbait', 'political', 'reliable']:\n",
    "            labels[1] += types[type]\n",
    "\n",
    "    return labels\n",
    "\n",
    "fake_credible(count_types(list(news['type'])))"
   ]
  },
  {
   "cell_type": "markdown",
   "metadata": {},
   "source": [
    "* Vocab for frequency of words"
   ]
  },
  {
   "cell_type": "code",
   "execution_count": 41,
   "metadata": {},
   "outputs": [],
   "source": [
    "vocab = []\n",
    "\n",
    "for content in new_sample['content']:\n",
    "    vocab.extend(nltk.word_tokenize(content))\n",
    "\n",
    "vocab = [word for word in vocab if word.isalpha()]"
   ]
  },
  {
   "cell_type": "code",
   "execution_count": 42,
   "metadata": {},
   "outputs": [],
   "source": [
    "def count_words(vocab):\n",
    "    words = {}\n",
    "\n",
    "    for word in vocab:\n",
    "        if word in words:\n",
    "            words[word] += 1\n",
    "        else:\n",
    "            words[word] = 1\n",
    "\n",
    "    return words"
   ]
  },
  {
   "cell_type": "code",
   "execution_count": 43,
   "metadata": {},
   "outputs": [],
   "source": [
    "sorted_vocab = {k: v for k, v in sorted(count_words(vocab).items(), key = lambda item: item[1], reverse=True)}"
   ]
  },
  {
   "cell_type": "code",
   "execution_count": 44,
   "metadata": {},
   "outputs": [],
   "source": [
    "frequent_words_10k = pd.DataFrame({'word': list(sorted_vocab)[:10000]})\n",
    "frequent_words_10k.to_csv(\"frequent_words_clean_10k.csv\")"
   ]
  },
  {
   "cell_type": "code",
   "execution_count": 45,
   "metadata": {},
   "outputs": [
    {
     "data": {
      "text/plain": [
       "{'num': 8017745,\n",
       " 'said': 1217866,\n",
       " 'one': 944701,\n",
       " 'new': 896846,\n",
       " 'time': 830588,\n",
       " 'would': 814241,\n",
       " 'state': 779366,\n",
       " 'year': 771998,\n",
       " 'peopl': 742483,\n",
       " 'like': 706585,\n",
       " 'also': 556282,\n",
       " 'use': 534572,\n",
       " 'us': 506477,\n",
       " 'say': 506445,\n",
       " 'make': 501004,\n",
       " 'even': 490716,\n",
       " 'get': 484887,\n",
       " 'go': 474783,\n",
       " 'work': 443292,\n",
       " 'american': 434947,\n",
       " 'news': 433105,\n",
       " 'govern': 430360,\n",
       " 'presid': 429693,\n",
       " 'report': 423656,\n",
       " 'stori': 422632,\n",
       " 'first': 421827,\n",
       " 'right': 420139,\n",
       " 'two': 418301,\n",
       " 'mani': 417754,\n",
       " 'nation': 417465,\n",
       " 'day': 416459,\n",
       " 'trump': 414183,\n",
       " 'could': 412891,\n",
       " 'continu': 403298,\n",
       " 'read': 403051,\n",
       " 'come': 395119,\n",
       " 'world': 372725,\n",
       " 'take': 370850,\n",
       " 'url': 363811,\n",
       " 'last': 361356,\n",
       " 'think': 355269,\n",
       " 'want': 351099,\n",
       " 'may': 349242,\n",
       " 'know': 347894,\n",
       " 'way': 347637,\n",
       " 'includ': 346512,\n",
       " 'call': 345688,\n",
       " 'see': 341414,\n",
       " 'iran': 334688,\n",
       " 'back': 330864,\n",
       " 'york': 326268,\n",
       " 'polit': 324966,\n",
       " 'need': 322894,\n",
       " 'date': 321471,\n",
       " 'countri': 319394,\n",
       " 'public': 318547,\n",
       " 'support': 313988,\n",
       " 'tri': 313772,\n",
       " 'obama': 304781,\n",
       " 'pleas': 301109,\n",
       " 'much': 294632,\n",
       " 'well': 292862,\n",
       " 'war': 292285,\n",
       " 'unit': 289250,\n",
       " 'chang': 285935,\n",
       " 'show': 284188,\n",
       " 'look': 283415,\n",
       " 'hous': 278384,\n",
       " 'thing': 275380,\n",
       " 'live': 271277,\n",
       " 'help': 266466,\n",
       " 'group': 265770,\n",
       " 'compani': 263804,\n",
       " 'law': 259256,\n",
       " 'made': 257716,\n",
       " 'republican': 256750,\n",
       " 'main': 256210,\n",
       " 'health': 253817,\n",
       " 'good': 252358,\n",
       " 'week': 251973,\n",
       " 'million': 250609,\n",
       " 'issu': 249309,\n",
       " 'sign': 249204,\n",
       " 'democrat': 245298,\n",
       " 'inform': 242997,\n",
       " 'sinc': 242673,\n",
       " 'still': 238067,\n",
       " 'point': 236772,\n",
       " 'percent': 236491,\n",
       " 'part': 234923,\n",
       " 'power': 234007,\n",
       " 'leader': 233358,\n",
       " 'servic': 231602,\n",
       " 'offic': 231297,\n",
       " 'citi': 228283,\n",
       " 'plan': 225897,\n",
       " 'end': 225163,\n",
       " 'gener': 223170,\n",
       " 'anoth': 222954,\n",
       " 'univers': 221093}"
      ]
     },
     "execution_count": 45,
     "metadata": {},
     "output_type": "execute_result"
    }
   ],
   "source": [
    "most_frequent_100 = dict(list(sorted_vocab.items())[:100])\n",
    "most_frequent_100"
   ]
  },
  {
   "cell_type": "code",
   "execution_count": 47,
   "metadata": {},
   "outputs": [
    {
     "name": "stdout",
     "output_type": "stream",
     "text": [
      "Amount of URLS: 363811\n",
      "Amount of Dates: 321471\n",
      "Amount of Numbers: 8017745\n",
      "Amount of Emails: 175519\n"
     ]
    }
   ],
   "source": [
    "print('Amount of URLS:', sorted_vocab['url'])\n",
    "print('Amount of Dates:', sorted_vocab['date'])\n",
    "print('Amount of Numbers:', sorted_vocab['num'])\n",
    "print('Amount of Emails:', sorted_vocab['email'])"
   ]
  },
  {
   "cell_type": "code",
   "execution_count": 48,
   "metadata": {},
   "outputs": [
    {
     "data": {
      "image/png": "[encoded data removed]",
      "text/plain": [
       "<Figure size 640x480 with 1 Axes>"
      ]
     },
     "metadata": {},
     "output_type": "display_data"
    }
   ],
   "source": [
    "plt.figure()\n",
    "plt.scatter(list(range(10000)), list(sorted_vocab.values())[:10000])\n",
    "plt.title('Most frequent words')\n",
    "plt.show()"
   ]
  },
  {
   "cell_type": "markdown",
   "metadata": {},
   "source": [
    "The graph of most frequent words follow Zipf's law (which is a powerlaw)"
   ]
  },
  {
   "cell_type": "markdown",
   "metadata": {},
   "source": [
    "### Task 4\n",
    "We use the sklearn train_test_split function to split the data into the different sets"
   ]
  },
  {
   "cell_type": "code",
   "execution_count": null,
   "metadata": {},
   "outputs": [
    {
     "name": "stdout",
     "output_type": "stream",
     "text": [
      "Training set size: 649520\n",
      "Validation set size: 81190\n",
      "Test set size: 81190\n"
     ]
    }
   ],
   "source": [
    "from sklearn.model_selection import train_test_split\n",
    "\n",
    "X = new_sample.drop(columns=[\"content\"]).values  # Feature columns\n",
    "y = new_sample[\"type\"].values  # Target column\n",
    "\n",
    "# 80% training and 20% rest for validation and test\n",
    "X_train, X_vt, y_train, y_vt = train_test_split(X, y, test_size=0.2, random_state=0, stratify=y)\n",
    "\n",
    "# Split 20% into 10% validation and 10% test\n",
    "X_val, X_test, y_val, y_test = train_test_split(X_vt, y_vt, test_size=0.5, random_state=0, stratify=y_vt)\n",
    "\n",
    "# Print number of samples in each dataset\n",
    "print(f\"Training set size: {X_train.shape[0]}\")\n",
    "print(f\"Validation set size: {X_val.shape[0]}\")\n",
    "print(f\"Test set size: {X_test.shape[0]}\")"
   ]
  },
  {
   "cell_type": "markdown",
   "metadata": {},
   "source": [
    "# Part 2: Simple Logitstic Regression\n",
    "\n",
    "* Binary classification: `reliabe` or `fake`\n",
    "\n",
    "### Task 0: Label grouping\n"
   ]
  },
  {
   "cell_type": "markdown",
   "metadata": {},
   "source": [
    "0: `fake`\n",
    "1: `reliable`"
   ]
  },
  {
   "cell_type": "code",
   "execution_count": 54,
   "metadata": {},
   "outputs": [
    {
     "data": {
      "text/plain": [
       "\"def is_credible(article_type):\\n    if article_type in ['fake', 'satire', 'conspiracy', 'bias', 'hate', 'junksci']:\\n        return 0\\n    elif article_type in ['clickbait', 'political', 'reliable']:\\n        return 1\\n    \\nnews['type'] = news['type'].apply(is_credible)\""
      ]
     },
     "execution_count": 54,
     "metadata": {},
     "output_type": "execute_result"
    }
   ],
   "source": [
    "'''def is_credible(article_type):\n",
    "    if article_type in ['fake', 'satire', 'conspiracy', 'bias', 'hate', 'junksci']:\n",
    "        return 0\n",
    "    elif article_type in ['clickbait', 'political', 'reliable']:\n",
    "        return 1\n",
    "    \n",
    "news['type'] = news['type'].apply(is_credible)'''"
   ]
  },
  {
   "cell_type": "markdown",
   "metadata": {},
   "source": [
    "### Task 1: Logistic regression classifier\n",
    "* Fixed vocab of 10000 most frequent words.\n",
    "\n",
    "* F1 score"
   ]
  },
  {
   "cell_type": "code",
   "execution_count": null,
   "metadata": {},
   "outputs": [],
   "source": [
    "import pandas as pd\n",
    "import numpy as np\n",
    "from collections import Counter\n",
    "from sklearn.model_selection import train_test_split\n",
    "from sklearn.linear_model import LogisticRegression\n",
    "from sklearn.metrics import accuracy_score, f1_score\n",
    "import re\n",
    "\n",
    "# 10000 most frequent words\n",
    "freq_words = pd.read_csv('frequent_words_clean_10k.csv')\n",
    "\n",
    "def text_to_features(text, vocab):\n",
    "    \"\"\"Convert text into a word frequency vector based on a fixed vocabulary.\"\"\"\n",
    "    words = re.findall(r'\\b\\w+\\b', text.lower())  # Tokenization using regex\n",
    "    word_counts = Counter(words)  # Count occurrences of each word\n",
    "    return [word_counts.get(word, 0) for word in vocab]  # Keep only vocab words\n",
    "\n",
    "# Apply Function to the Entire Dataset\n",
    "X = np.array([text_to_features(content, freq_words) for content in new_sample[\"content\"]])\n",
    "y = new_sample[\"type\"].values  # Target variable\n",
    "\n",
    "# Train/Test Split (80% Train, 10% Validation, 10% Test)\n",
    "X_train, X_vt, y_train, y_vt = train_test_split(X, y, test_size=0.2, random_state=0, stratify=y)\n",
    "X_val, X_test, y_val, y_test = train_test_split(X_vt, y_vt, test_size=0.5, random_state=0, stratify=y_vt)\n",
    "\n",
    "# Train Logistic Regression Model\n",
    "modelLog = LogisticRegression(max_iter=500, solver=\"lbfgs\", C=1.0)\n",
    "modelLog.fit(X_train, y_train)\n",
    "\n",
    "# Make Predictions\n",
    "y_pred = modelLog.predict(X_test)\n",
    "\n",
    "# Evaluate Model Performance\n",
    "accuracy = accuracy_score(y_test, y_pred)\n",
    "f1 = f1_score(y_test, y_pred)\n",
    "\n",
    "# Print Results\n",
    "print(\"Logistic Regression Accuracy: \", accuracy)\n",
    "print(\"Logistic Regression F1-score: \", f1)"
   ]
  },
  {
   "cell_type": "code",
   "execution_count": 51,
   "metadata": {},
   "outputs": [],
   "source": [
    "target_news = pd.read_csv(\"bbc_news_sample.csv\")\n",
    "\n",
    "target_news[\"content\"] = target_news[\"content\"].apply(full_clean)\n",
    "\n",
    "target_news.to_csv(\"cleaned_bbc_news_sample.csv\", index=False)"
   ]
  },
  {
   "cell_type": "code",
   "execution_count": null,
   "metadata": {},
   "outputs": [
    {
     "name": "stdout",
     "output_type": "stream",
     "text": [
      "                                             content  prediction\n",
      "0  Romanian far-right populist Calin Georgescu ha...           1\n",
      "1  The Trump administration believes Ukraine's le...           1\n",
      "2  A whippet from Venice in Italy has been named ...           1\n",
      "3  At least 25 people have died in Ukraine in the...           1\n",
      "4  Pope Francis, who has been battling pneumonia ...           1\n",
      "5  US Secretary of State Marco Rubio and Elon Mus...           1\n",
      "6  A journalist targeted by a Russian spy ring sa...           1\n",
      "7  US President Donald Trump has said he is findi...           1\n",
      "8  In January visa changes which prevented Ukrain...           1\n",
      "9  Leading European nations have said they suppor...           1\n"
     ]
    }
   ],
   "source": [
    "new_news = pd.read_csv(\"bbc_news_sample.csv\")\n",
    "# Transform the \"content\" Column into Word Count Vectors**\n",
    "X_new = np.array([text_to_features(content, freq_words) for content in new_news[\"content\"]])\n",
    "\n",
    "# Predict Fake or Reliable\n",
    "new_predictions = modelLog.predict(X_new)\n",
    "\n",
    "# Store Results\n",
    "new_news[\"prediction\"] = new_predictions  # Append predictions to the dataset\n",
    "\n",
    "# Save Predictions to a CSV File\n",
    "new_news.to_csv(\"classified_bbc_news.csv\", index=False)\n",
    "\n",
    "# Display Results\n",
    "print(new_news[[\"content\", \"prediction\"]].head(10))  # Show first 10 predictions"
   ]
  },
  {
   "cell_type": "code",
   "execution_count": null,
   "metadata": {},
   "outputs": [
    {
     "data": {
      "text/plain": [
       "'classified articles fake: 0, and reliable: 338'"
      ]
     },
     "execution_count": 17,
     "metadata": {},
     "output_type": "execute_result"
    }
   ],
   "source": [
    "classified_news = pd.read_csv(\"classified_bbc_news.csv\")\n",
    "classified_news[\"prediction\"]\n",
    "\n",
    "def counting(classified):\n",
    "    reliable = 0\n",
    "    fake = 0\n",
    "\n",
    "    for classification in classified:\n",
    "        if classification == 0 :\n",
    "            fake += 1\n",
    "        elif classification == 1:\n",
    "            reliable += 1\n",
    "\n",
    "    return (f\"classified articles  fake: {fake}, and reliable: {reliable}\")\n",
    "\n",
    "counting(list(classified_news['prediction']))"
   ]
  },
  {
   "cell_type": "markdown",
   "metadata": {},
   "source": [
    "### Task 2: meta-data features?"
   ]
  },
  {
   "cell_type": "code",
   "execution_count": null,
   "metadata": {},
   "outputs": [],
   "source": []
  },
  {
   "cell_type": "markdown",
   "metadata": {},
   "source": [
    "### Task 3: Apply preproccessing pipeline to scraped reliable data"
   ]
  },
  {
   "cell_type": "code",
   "execution_count": null,
   "metadata": {},
   "outputs": [],
   "source": [
    "# abc\n"
   ]
  },
  {
   "cell_type": "markdown",
   "metadata": {},
   "source": [
    "# Part 3: Advanced model"
   ]
  }
 ],
 "metadata": {
  "kernelspec": {
   "display_name": "GDSE",
   "language": "python",
   "name": "python3"
  },
  "language_info": {
   "codemirror_mode": {
    "name": "ipython",
    "version": 3
   },
   "file_extension": ".py",
   "mimetype": "text/x-python",
   "name": "python",
   "nbconvert_exporter": "python",
   "pygments_lexer": "ipython3",
   "version": "3.12.8"
  }
 },
 "nbformat": 4,
 "nbformat_minor": 2
}
